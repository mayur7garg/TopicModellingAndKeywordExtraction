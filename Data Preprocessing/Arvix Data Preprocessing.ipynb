{
 "cells": [
  {
   "cell_type": "markdown",
   "source": [
    "# Data Preprocessing for Arvix abstracts dataset"
   ],
   "metadata": {}
  },
  {
   "cell_type": "markdown",
   "source": [
    "## Imports"
   ],
   "metadata": {}
  },
  {
   "cell_type": "code",
   "execution_count": 1,
   "source": [
    "import random\n",
    "import pandas as pd\n",
    "\n",
    "from data_preprocessing_util import clean_text"
   ],
   "outputs": [
    {
     "output_type": "stream",
     "name": "stderr",
     "text": [
      "[nltk_data] Downloading package stopwords to /home/vscode/nltk_data...\n",
      "[nltk_data]   Package stopwords is already up-to-date!\n"
     ]
    }
   ],
   "metadata": {}
  },
  {
   "cell_type": "markdown",
   "source": [
    "## Data Loading"
   ],
   "metadata": {}
  },
  {
   "cell_type": "markdown",
   "source": [
    "### Load the raw data from a text file"
   ],
   "metadata": {}
  },
  {
   "cell_type": "code",
   "execution_count": 2,
   "source": [
    "%%time\n",
    "\n",
    "with open('../Datasets/Arvix Abstracts/arxiv-abstracts-all.txt', 'r') as data_file:\n",
    "    all_data = data_file.readlines()\n",
    "\n",
    "print(f\"Total number of abstracts: {len(all_data)}\\n\")"
   ],
   "outputs": [
    {
     "output_type": "stream",
     "name": "stdout",
     "text": [
      "Total number of abstracts: 1578655\n",
      "\n",
      "CPU times: user 3.98 s, sys: 3.3 s, total: 7.29 s\n",
      "Wall time: 43.3 s\n"
     ]
    }
   ],
   "metadata": {}
  },
  {
   "cell_type": "markdown",
   "source": [
    "### Sample some values for visualization"
   ],
   "metadata": {}
  },
  {
   "cell_type": "code",
   "execution_count": 3,
   "source": [
    "sample_ids = [random.randint(0, len(all_data) - 1) for _ in range(3)]\n",
    "\n",
    "print(\"Sample raw data:\\n\")\n",
    "\n",
    "for i, sample_id in enumerate(sample_ids):\n",
    "    print(f\"#{i + 1}\\n{all_data[sample_id]}\\n\")"
   ],
   "outputs": [
    {
     "output_type": "stream",
     "name": "stdout",
     "text": [
      "Sample raw data:\n",
      "\n",
      "#1\n",
      "\"This report is a review of Darwin's classical theory of bodily tides in which we present the analytical expressions for the orbital and rotational evolution of the bodies and for the energy dissipation rates due to their tidal interaction. General formulas are given which do not depend on any assumption linking the tidal lags to the frequencies of the corresponding tidal waves (except that equal frequency harmonics are assumed to span equal lags). Emphasis is given to the cases of companions having reached one of the two possible final states: (1) the super-synchronous stationary rotation resulting from the vanishing of the average tidal torque; (2) the capture into a 1:1 spin-orbit resonance (true synchronization). In these cases, the energy dissipation is controlled by the tidal harmonic with period equal to the orbital period (instead of the semi-diurnal tide) and the singularity due to the vanishing of the geometric phase lag does not exist. It is also shown that the true synchronization with non-zero eccentricity is only possible if an extra torque exists opposite to the tidal torque. The theory is developed assuming that this additional torque is produced by an equatorial permanent asymmetry in the companion. The results are model-dependent and the theory is developed only to the second degree in eccentricity and inclination (obliquity). It can easily be extended to higher orders, but formal accuracy will not be a real improvement as long as the physics of the processes leading to tidal lags is not better known. \"\n",
      "\n",
      "\n",
      "#2\n",
      "\"This paper presents a comprehensive examination of the X-ray continuum variability of the bright Seyfert 1 galaxy MCG-6-30-15. The source clearly shows the strong, linear correlation between rms variability amplitude and flux first seen in Galactic X-ray binaries. The high frequency power spectral density (PSD) of MCG-6-30-15 is examined in detail using a Monte Carlo fitting procedure and is found to be well represented by a steep power-law at high frequencies (with a power-law index alpha ~ 2.5), breaking to a flatter slope (alpha ~ 1) below f_br ~ 0.6 - 2.0 x 10^-4 Hz, consistent with the previous results of Uttley, McHardy & Papadakis. The slope of the power spectrum above the break is energy dependent, with the higher energies showing a flatter PSD. At low frequencies the variations between different energy bands are highly coherent while at high frequencies the coherence is significantly reduced. Time lags are detected between energy bands, with the soft variations leading the hard. The magnitude of the lag is small (<200 s for the frequencies observed) and is most likely frequency dependent. These properties are remarkably similar to the temporal properties of the Galactic black hole candidate Cygnus X-1. The characteristic timescales in these two types of source differ by ~10^5; assuming that these timescales scale linearly with black hole mass then suggests a black hole mass ~10^6 M_sun for MCG-6-30-15. We speculate that the timing properties of MCG-6-30-15 may be analogous to those of Cyg X-1 in its high/soft state and discuss a simple phenomenological model, originally developed to explain the timing properties of Cyg X-1, that can explain many of the observed properties of MCG-6-30-15. \"\n",
      "\n",
      "\n",
      "#3\n",
      "\"The indistinguishability of independent single photons is presented by decomposing the single photon pulse into the mixed state of different transform limited pulses. The entanglement between single photons and outer environment or other photons induces the distribution of the center frequencies of those transform limited pulses and makes photons distinguishable. Only the single photons with the same transform limited form are indistinguishable. In details, the indistinguishability of single photons from the solid-state quantum emitter and spontaneous parametric down conversion is examined with two-photon Hong-Ou-Mandel interferometer. Moreover, experimental methods to enhance the indistinguishability are discussed, where the usage of spectral filter is highlighted. \"\n",
      "\n",
      "\n"
     ]
    }
   ],
   "metadata": {}
  },
  {
   "cell_type": "markdown",
   "source": [
    "## Data Cleaning"
   ],
   "metadata": {}
  },
  {
   "cell_type": "code",
   "execution_count": 4,
   "source": [
    "%%time\n",
    "\n",
    "all_data = list(map(clean_text, all_data))\n",
    "\n",
    "print(\"Processed data:\\n\")\n",
    "\n",
    "for i, sample_id in enumerate(sample_ids):\n",
    "    print(f\"#{i + 1}\\n{all_data[sample_id]}\\n\")"
   ],
   "outputs": [
    {
     "output_type": "stream",
     "name": "stdout",
     "text": [
      "Processed data:\n",
      "\n",
      "#1\n",
      "report review darwins classical theory bodily tides present analytical expressions orbital rotational evolution bodies energy dissipation rates due tidal interaction general formulas given depend assumption linking tidal lags frequencies corresponding tidal waves except equal frequency harmonics assumed span equal lags emphasis given cases companions reached one two possible final states supersynchronous stationary rotation resulting vanishing average tidal torque capture spinorbit resonance true synchronization cases energy dissipation controlled tidal harmonic period equal orbital period instead semidiurnal tide singularity due vanishing geometric phase lag exist also shown true synchronization nonzero eccentricity possible extra torque exists opposite tidal torque theory developed assuming additional torque produced equatorial permanent asymmetry companion results modeldependent theory developed second degree eccentricity inclination obliquity easily extended higher orders formal accuracy real improvement long physics processes leading tidal lags better known \n",
      "\n",
      "#2\n",
      "paper presents comprehensive examination xray continuum variability bright seyfert galaxy mcg63015 source clearly shows strong linear correlation rms variability amplitude flux first seen galactic xray binaries high frequency power spectral density psd mcg63015 examined detail using monte carlo fitting procedure found well represented steep powerlaw high frequencies powerlaw index alpha  breaking flatter slope alpha  fbr   x hz consistent previous results uttley mchardy  papadakis slope power spectrum break energy dependent higher energies showing flatter psd low frequencies variations different energy bands highly coherent high frequencies coherence significantly reduced time lags detected energy bands soft variations leading hard magnitude lag small frequencies observed likely frequency dependent properties remarkably similar temporal properties galactic black hole candidate cygnus x1 characteristic timescales two types source differ assuming timescales scale linearly black hole mass suggests black hole mass msun mcg63015 speculate timing properties mcg63015 may analogous cyg x1 highsoft state discuss simple phenomenological model originally developed explain timing properties cyg x1 explain many observed properties mcg63015 \n",
      "\n",
      "#3\n",
      "indistinguishability independent single photons presented decomposing single photon pulse mixed state different transform limited pulses entanglement single photons outer environment photons induces distribution center frequencies transform limited pulses makes photons distinguishable single photons transform limited form indistinguishable details indistinguishability single photons solidstate quantum emitter spontaneous parametric conversion examined twophoton hongoumandel interferometer moreover experimental methods enhance indistinguishability discussed usage spectral filter highlighted \n",
      "\n",
      "CPU times: user 2min 32s, sys: 1.05 s, total: 2min 33s\n",
      "Wall time: 2min 33s\n"
     ]
    }
   ],
   "metadata": {}
  },
  {
   "cell_type": "markdown",
   "source": [
    "## Saving cleaned data as csv"
   ],
   "metadata": {}
  },
  {
   "cell_type": "code",
   "execution_count": 5,
   "source": [
    "data_df = pd.DataFrame(all_data, columns = [\"abstract\"])\n",
    "data_df.head()"
   ],
   "outputs": [
    {
     "output_type": "execute_result",
     "data": {
      "text/plain": [
       "                                            abstract\n",
       "0  natural basic principles allow extend feynman ...\n",
       "1  study effects adding loops critical percolatio...\n",
       "2  propose large quantum fluctuations conformal f...\n",
       "3  offshell behaviors bound nucleons deep inelast...\n",
       "4  following recent work gross consider partition..."
      ],
      "text/html": [
       "<div>\n",
       "<style scoped>\n",
       "    .dataframe tbody tr th:only-of-type {\n",
       "        vertical-align: middle;\n",
       "    }\n",
       "\n",
       "    .dataframe tbody tr th {\n",
       "        vertical-align: top;\n",
       "    }\n",
       "\n",
       "    .dataframe thead th {\n",
       "        text-align: right;\n",
       "    }\n",
       "</style>\n",
       "<table border=\"1\" class=\"dataframe\">\n",
       "  <thead>\n",
       "    <tr style=\"text-align: right;\">\n",
       "      <th></th>\n",
       "      <th>abstract</th>\n",
       "    </tr>\n",
       "  </thead>\n",
       "  <tbody>\n",
       "    <tr>\n",
       "      <th>0</th>\n",
       "      <td>natural basic principles allow extend feynman ...</td>\n",
       "    </tr>\n",
       "    <tr>\n",
       "      <th>1</th>\n",
       "      <td>study effects adding loops critical percolatio...</td>\n",
       "    </tr>\n",
       "    <tr>\n",
       "      <th>2</th>\n",
       "      <td>propose large quantum fluctuations conformal f...</td>\n",
       "    </tr>\n",
       "    <tr>\n",
       "      <th>3</th>\n",
       "      <td>offshell behaviors bound nucleons deep inelast...</td>\n",
       "    </tr>\n",
       "    <tr>\n",
       "      <th>4</th>\n",
       "      <td>following recent work gross consider partition...</td>\n",
       "    </tr>\n",
       "  </tbody>\n",
       "</table>\n",
       "</div>"
      ]
     },
     "metadata": {},
     "execution_count": 5
    }
   ],
   "metadata": {}
  },
  {
   "cell_type": "code",
   "execution_count": 6,
   "source": [
    "data_df.to_csv(\"../Processed Data/arvix_abstracts_cleaned.csv\", index = False)"
   ],
   "outputs": [],
   "metadata": {}
  }
 ],
 "metadata": {
  "orig_nbformat": 4,
  "language_info": {
   "name": "python",
   "version": "3.8.11",
   "mimetype": "text/x-python",
   "codemirror_mode": {
    "name": "ipython",
    "version": 3
   },
   "pygments_lexer": "ipython3",
   "nbconvert_exporter": "python",
   "file_extension": ".py"
  },
  "kernelspec": {
   "name": "python3",
   "display_name": "Python 3.8.11 64-bit"
  },
  "interpreter": {
   "hash": "4cd7ab41f5fca4b9b44701077e38c5ffd31fe66a6cab21e0214b68d958d0e462"
  }
 },
 "nbformat": 4,
 "nbformat_minor": 2
}