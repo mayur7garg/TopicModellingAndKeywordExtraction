{
 "cells": [
  {
   "cell_type": "markdown",
   "source": [
    "# Data Preprocessing for Arvix abstracts dataset"
   ],
   "metadata": {}
  },
  {
   "cell_type": "markdown",
   "source": [
    "## Imports"
   ],
   "metadata": {}
  },
  {
   "cell_type": "code",
   "execution_count": 1,
   "source": [
    "import random\n",
    "import pandas as pd\n",
    "\n",
    "from data_preprocessing_util import clean_text"
   ],
   "outputs": [
    {
     "output_type": "stream",
     "name": "stderr",
     "text": [
      "[nltk_data] Downloading package stopwords to /home/vscode/nltk_data...\n",
      "[nltk_data]   Package stopwords is already up-to-date!\n"
     ]
    }
   ],
   "metadata": {}
  },
  {
   "cell_type": "markdown",
   "source": [
    "## Data Loading"
   ],
   "metadata": {}
  },
  {
   "cell_type": "markdown",
   "source": [
    "### Load the raw data from a text file"
   ],
   "metadata": {}
  },
  {
   "cell_type": "code",
   "execution_count": 2,
   "source": [
    "%%time\n",
    "\n",
    "with open('../Datasets/Arvix Abstracts/arxiv-abstracts-all.txt', 'r') as data_file:\n",
    "    all_data = data_file.readlines()\n",
    "\n",
    "print(f\"Total number of abstracts: {len(all_data)}\\n\")"
   ],
   "outputs": [
    {
     "output_type": "stream",
     "name": "stdout",
     "text": [
      "Total number of abstracts: 1578655\n",
      "\n",
      "CPU times: user 4.02 s, sys: 3.62 s, total: 7.64 s\n",
      "Wall time: 45.2 s\n"
     ]
    }
   ],
   "metadata": {}
  },
  {
   "cell_type": "markdown",
   "source": [
    "### Sample some values for visualization"
   ],
   "metadata": {}
  },
  {
   "cell_type": "code",
   "execution_count": 3,
   "source": [
    "sample_ids = [random.randint(0, len(all_data) - 1) for _ in range(3)]\n",
    "\n",
    "print(\"Sample raw data:\\n\")\n",
    "\n",
    "for i, sample_id in enumerate(sample_ids):\n",
    "    print(f\"#{i + 1}\\n{all_data[sample_id]}\\n\")"
   ],
   "outputs": [
    {
     "output_type": "stream",
     "name": "stdout",
     "text": [
      "Sample raw data:\n",
      "\n",
      "#1\n",
      "\"With the emergence of the Internet-of-Things (IoT), there is a growing need for access control and data protection on low-power, pervasive devices. Biometric-based authentication is promising for IoT due to its convenient nature and lower susceptibility to attacks. However, the costs associated with biometric processing and template protection are nontrivial for smart cards, key fobs, and so forth. In this paper, we discuss the security, cost, and utility of biometric systems and develop two major frameworks for improving them. First, we introduce a new framework for implementing biometric systems based on physical unclonable functions (PUFs) and hardware obfuscation that, unlike traditional software approaches, does not require nonvolatile storage of a biometric template/key. Aside from reducing the risk of compromising the biometric, the nature of obfuscation also provides protection against access control circumvention via malware and fault injection. The PUF provides non-invertibility and non-linkability. Second, a major requirement of the proposed PUF/obfuscation approach is that a reliable (robust) key be generated from the users input biometric. We propose a noiseaware biometric quantization framework capable of generating unique, reliable keys with reduced enrollment time and denoising costs. Finally, we conduct several case studies. In the first, the proposed noise-aware approach is compared to our previous approach for multiple biometric modalities, including popular ones (fingerprint and iris) and emerging cardiovascular ones (ECG and PPG). The results show that ECG provides the best tradeoff between reliability, key length, entropy, and cost. In the second and third case studies, we demonstrate how reliability, denoising costs, and enrollment times can be simultaneously improved by modeling subject intra-variations for ECG. \"\n",
      "\n",
      "\n",
      "#2\n",
      "\"Schummer (Journal of Economic Theory 2000) introduced the concept of bribeproof mechanism which, in a context where monetary transfer between agents is possible, requires that manipulations through bribes are ruled out. Unfortunately, in many domains, the only bribeproof mechanisms are the trivial ones which return a fixed outcome. This work presents one of the few constructions of non-trivial bribeproof mechanisms for these quasi-linear environments. Though the suggested construction applies to rather restricted domains, the results obtained are tight: For several natural problems, the method yields the only possible bribeproof mechanism and no such mechanism is possible on more general domains. \"\n",
      "\n",
      "\n",
      "#3\n",
      "\"We have derived the integral form of the cusp and node coalescence conditions satisfied by the wavefunction at the coalescence of two charged particles in $D \\geq 2$ dimension space. From it we have obtained the differential form of the coalescence conditions. These expressions reduce to the well-known integral and differential coalescence conditions in $D = 3$ space. It follows from the results derived that the approximate Laughlin wavefunction for the fractional Quantum Hall Effect satisfies the node coalescence condition. It is further noted that the integral form makes evident that unlike the electron-nucleus coalescence condition, the differential form of the electron-electron coalescence condition cannot be expressed in terms of the electron density at the point of coalescence. From the integral form, the integral and differential coalescence conditions for the pair-correlation function in $D\\geq 2$ dimension space are also derived. The known differential form of the pair function cusp condition for the uniform electron gas in dimensions $D = 2,3$ constitute a special case of the result derived. \"\n",
      "\n",
      "\n"
     ]
    }
   ],
   "metadata": {}
  },
  {
   "cell_type": "markdown",
   "source": [
    "## Data Cleaning"
   ],
   "metadata": {}
  },
  {
   "cell_type": "code",
   "execution_count": 4,
   "source": [
    "%%time\n",
    "\n",
    "all_data = list(map(clean_text, all_data))\n",
    "\n",
    "print(\"Processed data:\\n\")\n",
    "\n",
    "for i, sample_id in enumerate(sample_ids):\n",
    "    print(f\"#{i + 1}\\n{all_data[sample_id]}\\n\")"
   ],
   "outputs": [
    {
     "output_type": "stream",
     "name": "stdout",
     "text": [
      "Processed data:\n",
      "\n",
      "#1\n",
      "emergence internetofthings iot growing need access control data protection lowpower pervasive devices biometricbased authentication promising iot due convenient nature lower susceptibility attacks however costs associated biometric processing template protection nontrivial smart cards key fobs forth paper discuss security cost utility biometric systems develop two major frameworks improving first introduce new framework implementing biometric systems based physical unclonable functions pufs hardware obfuscation unlike traditional software approaches require nonvolatile storage biometric templatekey aside reducing risk compromising biometric nature obfuscation also provides protection access control circumvention via malware fault injection puf provides noninvertibility nonlinkability second major requirement proposed pufobfuscation approach reliable robust key generated users input biometric propose noiseaware biometric quantization framework capable generating unique reliable keys reduced enrollment time denoising costs finally conduct several case studies first proposed noiseaware approach compared previous approach multiple biometric modalities including popular ones fingerprint iris emerging cardiovascular ones ecg ppg results show ecg provides best tradeoff reliability key length entropy cost second third case studies demonstrate reliability denoising costs enrollment times simultaneously improved modeling subject intravariations ecg\n",
      "\n",
      "#2\n",
      "schummer journal economic theory introduced concept bribeproof mechanism context monetary transfer agents possible requires manipulations bribes ruled unfortunately many domains bribeproof mechanisms trivial ones return fixed outcome work presents one constructions nontrivial bribeproof mechanisms quasilinear environments though suggested construction applies rather restricted domains results obtained tight several natural problems method yields possible bribeproof mechanism mechanism possible general domains\n",
      "\n",
      "#3\n",
      "derived integral form cusp node coalescence conditions satisfied wavefunction coalescence two charged particles geq dimension space obtained differential form coalescence conditions expressions reduce wellknown integral differential coalescence conditions space follows results derived approximate laughlin wavefunction fractional quantum hall effect satisfies node coalescence condition noted integral form makes evident unlike electronnucleus coalescence condition differential form electronelectron coalescence condition cannot expressed terms electron density point coalescence integral form integral differential coalescence conditions paircorrelation function dgeq dimension space also derived known differential form pair function cusp condition uniform electron gas dimensions constitute special case result derived\n",
      "\n",
      "CPU times: user 3min, sys: 0 ns, total: 3min\n",
      "Wall time: 3min\n"
     ]
    }
   ],
   "metadata": {}
  },
  {
   "cell_type": "markdown",
   "source": [
    "## Saving cleaned data as csv"
   ],
   "metadata": {}
  },
  {
   "cell_type": "code",
   "execution_count": 5,
   "source": [
    "data_df = pd.DataFrame(all_data, columns = [\"abstract\"])\n",
    "data_df.head()"
   ],
   "outputs": [
    {
     "output_type": "execute_result",
     "data": {
      "text/plain": [
       "                                            abstract\n",
       "0  natural basic principles allow extend feynman ...\n",
       "1  study effects adding loops critical percolatio...\n",
       "2  propose large quantum fluctuations conformal f...\n",
       "3  offshell behaviors bound nucleons deep inelast...\n",
       "4  following recent work gross consider partition..."
      ],
      "text/html": [
       "<div>\n",
       "<style scoped>\n",
       "    .dataframe tbody tr th:only-of-type {\n",
       "        vertical-align: middle;\n",
       "    }\n",
       "\n",
       "    .dataframe tbody tr th {\n",
       "        vertical-align: top;\n",
       "    }\n",
       "\n",
       "    .dataframe thead th {\n",
       "        text-align: right;\n",
       "    }\n",
       "</style>\n",
       "<table border=\"1\" class=\"dataframe\">\n",
       "  <thead>\n",
       "    <tr style=\"text-align: right;\">\n",
       "      <th></th>\n",
       "      <th>abstract</th>\n",
       "    </tr>\n",
       "  </thead>\n",
       "  <tbody>\n",
       "    <tr>\n",
       "      <th>0</th>\n",
       "      <td>natural basic principles allow extend feynman ...</td>\n",
       "    </tr>\n",
       "    <tr>\n",
       "      <th>1</th>\n",
       "      <td>study effects adding loops critical percolatio...</td>\n",
       "    </tr>\n",
       "    <tr>\n",
       "      <th>2</th>\n",
       "      <td>propose large quantum fluctuations conformal f...</td>\n",
       "    </tr>\n",
       "    <tr>\n",
       "      <th>3</th>\n",
       "      <td>offshell behaviors bound nucleons deep inelast...</td>\n",
       "    </tr>\n",
       "    <tr>\n",
       "      <th>4</th>\n",
       "      <td>following recent work gross consider partition...</td>\n",
       "    </tr>\n",
       "  </tbody>\n",
       "</table>\n",
       "</div>"
      ]
     },
     "metadata": {},
     "execution_count": 5
    }
   ],
   "metadata": {}
  },
  {
   "cell_type": "code",
   "execution_count": 6,
   "source": [
    "data_df.to_csv(\"../Processed Data/arvix_abstracts_cleaned.csv\", index = False)"
   ],
   "outputs": [],
   "metadata": {}
  }
 ],
 "metadata": {
  "orig_nbformat": 4,
  "language_info": {
   "name": "python",
   "version": "3.8.11",
   "mimetype": "text/x-python",
   "codemirror_mode": {
    "name": "ipython",
    "version": 3
   },
   "pygments_lexer": "ipython3",
   "nbconvert_exporter": "python",
   "file_extension": ".py"
  },
  "kernelspec": {
   "name": "python3",
   "display_name": "Python 3.8.11 64-bit"
  },
  "interpreter": {
   "hash": "4cd7ab41f5fca4b9b44701077e38c5ffd31fe66a6cab21e0214b68d958d0e462"
  }
 },
 "nbformat": 4,
 "nbformat_minor": 2
}